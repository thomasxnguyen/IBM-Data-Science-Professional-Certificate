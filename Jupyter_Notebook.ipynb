{
 "cells": [
  {
   "cell_type": "markdown",
   "metadata": {},
   "source": [
    "<center>\n",
    "    <img src=\"https://cf-courses-data.s3.us.cloud-object-storage.appdomain.cloud/IBMDeveloperSkillsNetwork-DS0105EN-SkillsNetwork/labs/Module2/images/SN_web_lightmode.png\" width=\"300\" alt=\"cognitiveclass.ai logo\">\n",
    "</center>\n"
   ]
  },
  {
   "cell_type": "markdown",
   "metadata": {},
   "source": [
    "#### Add your code below following the instructions given in the course\n"
   ]
  },
  {
   "cell_type": "markdown",
   "metadata": {},
   "source": [
    "# Peer Assessment - Jupyter Notebook"
   ]
  },
  {
   "cell_type": "markdown",
   "metadata": {},
   "source": [
    "This is a peer review Jupyter notebook for IBM Data Science Professional Certificate. The notebook will contain the following: \n",
    "\n",
    "Exercise 2 - Create a markdown cell with the title of the notebook. (1 pt)\n",
    "\n",
    "Exercise 3 - Create a markdown cell for an introduction. (1 pt)\n",
    "\n",
    "Exercise 4 - Create a markdown cell to list data science languages. (3 pts)\n",
    "\n",
    "Exercise 5 - Create a markdown cell to list data science libraries. (3 pts)\n",
    "\n",
    "Exercise 6 - Create a markdown cell with a table of Data Science tools. (3 pts)\n",
    "\n",
    "Exercise 7 - Create a markdown cell introducing arithmetic expression examples. (1 pt)\n",
    "\n",
    "Exercise 8 - Create a code cell to multiply and add numbers.(2 pts)\n",
    "\n",
    "Exercise 9 - Create a code cell to convert minutes to hours. (2 pts)\n",
    "\n",
    "Exercise 10 -Insert a markdown cell to list Objectives. (3 pts)\n",
    "\n",
    "Exercise 11 - Create a markdown cell to indicate the Author’s name. (2 pts)\n",
    "\n",
    "Exercise 12 - Share your notebook through GitHub (3 pts)\n",
    "\n",
    "Exercise 13 - Take a screenshot of the first page of the notebook. (1 pt)"
   ]
  },
  {
   "cell_type": "markdown",
   "metadata": {},
   "source": [
    "Data Science Languages\n",
    "1. Python\n",
    "2. R\n",
    "3. SQL\n",
    "4. Scala\n",
    "5. Java\n",
    "6. C++\n",
    "7. Julia\n",
    "8. JavaScript\n",
    "9. And many more"
   ]
  },
  {
   "cell_type": "markdown",
   "metadata": {},
   "source": [
    "Data Science Libraries\n",
    "\n",
    "Python Libraries\n",
    "* Pandas \n",
    "* NumPy \n",
    "* Matplotlib\n",
    "* Seaborn\n",
    "* SciKit-learn\n",
    "* Keras\n",
    "* TensorFlow\n",
    "* PyTorch\n",
    "\n",
    "R\n",
    "* GGplot2\n",
    "* Keras\n",
    "* TensorFlow"
   ]
  },
  {
   "cell_type": "markdown",
   "metadata": {},
   "source": [
    "|Data Science Tools|Example|\n",
    "-------------------|---------\n",
    "|Open source tools|Jupyter|\n",
    "|Commercial tools|IBM Watson Studio Desktop|\n",
    "|Cloud based tools|IBM Watson Machine Learning|"
   ]
  },
  {
   "cell_type": "markdown",
   "metadata": {},
   "source": [
    "***The following two cells will include arithmetic expressions:***\n",
    "\n",
    "The first will include multiplication and addition. To multiply numbers you can use \"*\" and to add numbers you can use \"+\".\n",
    "\n",
    "The second will include a conversion from minutes to hours. To convert minutes into hours, take the minutes and divide by 60."
   ]
  },
  {
   "cell_type": "code",
   "execution_count": 11,
   "metadata": {},
   "outputs": [
    {
     "name": "stdout",
     "output_type": "stream",
     "text": [
      "Multiplication 10*10 = 100\n",
      "Addition 10+10 = 20\n"
     ]
    }
   ],
   "source": [
    "print(\"Multiplication\",\"10*10 =\",10*10)\n",
    "print(\"Addition\",\"10+10 =\",10+10)"
   ]
  },
  {
   "cell_type": "code",
   "execution_count": 12,
   "metadata": {},
   "outputs": [
    {
     "name": "stdout",
     "output_type": "stream",
     "text": [
      "To convert minutes into hours, take the minutes and divide by 60.\n",
      "120 minutes is equal to 2 hours. 120/60 = 2.0\n"
     ]
    }
   ],
   "source": [
    "print(\"To convert minutes into hours, take the minutes and divide by 60.\")\n",
    "print(\"120 minutes is equal to 2 hours.\", \"120/60 =\", 120/60)"
   ]
  },
  {
   "cell_type": "markdown",
   "metadata": {},
   "source": [
    "***The objectives of this notebook was to test my understanding of Jupyter notebook. The following exercises were successfully perform to test my understanding of the material.***\n",
    "\n",
    "* Exercise 2 - Create a markdown cell with the title of the notebook. (1 pt)\n",
    "\n",
    "* Exercise 3 - Create a markdown cell for an introduction. (1 pt)\n",
    "\n",
    "* Exercise 4 - Create a markdown cell to list data science languages. (3 pts)\n",
    "\n",
    "* Exercise 5 - Create a markdown cell to list data science libraries. (3 pts)\n",
    "\n",
    "* Exercise 6 - Create a markdown cell with a table of Data Science tools. (3 pts)\n",
    "\n",
    "* Exercise 7 - Create a markdown cell introducing arithmetic expression examples. (1 pt)\n",
    "\n",
    "* Exercise 8 - Create a code cell to multiply and add numbers.(2 pts)\n",
    "\n",
    "* Exercise 9 - Create a code cell to convert minutes to hours. (2 pts)\n",
    "\n",
    "* Exercise 10 -Insert a markdown cell to list Objectives. (3 pts)\n",
    "\n",
    "* Exercise 11 - Create a markdown cell to indicate the Author’s name. (2 pts)\n",
    "\n",
    "* Exercise 12 - Share your notebook through GitHub (3 pts)\n",
    "\n",
    "* Exercise 13 - Take a screenshot of the first page of the notebook. (1 pt)"
   ]
  },
  {
   "cell_type": "markdown",
   "metadata": {},
   "source": [
    "Author - Thomas Nguyen"
   ]
  }
 ],
 "metadata": {
  "kernelspec": {
   "display_name": "Python",
   "language": "python",
   "name": "conda-env-python-py"
  },
  "language_info": {
   "codemirror_mode": {
    "name": "ipython",
    "version": 3
   },
   "file_extension": ".py",
   "mimetype": "text/x-python",
   "name": "python",
   "nbconvert_exporter": "python",
   "pygments_lexer": "ipython3",
   "version": "3.7.12"
  }
 },
 "nbformat": 4,
 "nbformat_minor": 4
}
